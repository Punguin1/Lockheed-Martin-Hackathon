{
 "cells": [
  {
   "cell_type": "code",
   "execution_count": 1,
   "id": "25c0de05-ec3e-4ba5-9844-34fb3ee0f5c0",
   "metadata": {
    "editable": true,
    "slideshow": {
     "slide_type": ""
    },
    "tags": []
   },
   "outputs": [
    {
     "name": "stdout",
     "output_type": "stream",
     "text": [
      "Requirement already satisfied: seaborn in /opt/conda/lib/python3.10/site-packages (from -r requirements.txt (line 1)) (0.13.2)\n",
      "Requirement already satisfied: wordcloud in /opt/conda/lib/python3.10/site-packages (from -r requirements.txt (line 2)) (1.9.3)\n",
      "Requirement already satisfied: torcheval in /opt/conda/lib/python3.10/site-packages (from -r requirements.txt (line 3)) (0.0.7)\n",
      "Requirement already satisfied: nltk in /opt/conda/lib/python3.10/site-packages (from -r requirements.txt (line 4)) (3.8.1)\n",
      "Requirement already satisfied: scikit-learn in /opt/conda/lib/python3.10/site-packages (from -r requirements.txt (line 5)) (1.4.2)\n",
      "Requirement already satisfied: openpyxl in /opt/conda/lib/python3.10/site-packages (from -r requirements.txt (line 6)) (3.1.5)\n",
      "Requirement already satisfied: transformers in /opt/conda/lib/python3.10/site-packages (from -r requirements.txt (line 7)) (4.40.2)\n",
      "Requirement already satisfied: bcolors in /opt/conda/lib/python3.10/site-packages (from -r requirements.txt (line 8)) (1.0.4)\n",
      "Requirement already satisfied: imbalanced-learn in /opt/conda/lib/python3.10/site-packages (from -r requirements.txt (line 9)) (0.12.3)\n",
      "Requirement already satisfied: optuna in /opt/conda/lib/python3.10/site-packages (from -r requirements.txt (line 10)) (4.0.0)\n",
      "Requirement already satisfied: imblearn in /opt/conda/lib/python3.10/site-packages (from -r requirements.txt (line 11)) (0.0)\n",
      "Requirement already satisfied: numpy!=1.24.0,>=1.20 in /opt/conda/lib/python3.10/site-packages (from seaborn->-r requirements.txt (line 1)) (1.26.4)\n",
      "Requirement already satisfied: pandas>=1.2 in /opt/conda/lib/python3.10/site-packages (from seaborn->-r requirements.txt (line 1)) (2.1.4)\n",
      "Requirement already satisfied: matplotlib!=3.6.1,>=3.4 in /opt/conda/lib/python3.10/site-packages (from seaborn->-r requirements.txt (line 1)) (3.9.1)\n",
      "Requirement already satisfied: pillow in /opt/conda/lib/python3.10/site-packages (from wordcloud->-r requirements.txt (line 2)) (10.4.0)\n",
      "Requirement already satisfied: typing-extensions in /opt/conda/lib/python3.10/site-packages (from torcheval->-r requirements.txt (line 3)) (4.12.2)\n",
      "Requirement already satisfied: click in /opt/conda/lib/python3.10/site-packages (from nltk->-r requirements.txt (line 4)) (8.1.7)\n",
      "Requirement already satisfied: joblib in /opt/conda/lib/python3.10/site-packages (from nltk->-r requirements.txt (line 4)) (1.4.2)\n",
      "Requirement already satisfied: regex>=2021.8.3 in /opt/conda/lib/python3.10/site-packages (from nltk->-r requirements.txt (line 4)) (2024.7.24)\n",
      "Requirement already satisfied: tqdm in /opt/conda/lib/python3.10/site-packages (from nltk->-r requirements.txt (line 4)) (4.66.5)\n",
      "Requirement already satisfied: scipy>=1.6.0 in /opt/conda/lib/python3.10/site-packages (from scikit-learn->-r requirements.txt (line 5)) (1.11.4)\n",
      "Requirement already satisfied: threadpoolctl>=2.0.0 in /opt/conda/lib/python3.10/site-packages (from scikit-learn->-r requirements.txt (line 5)) (3.5.0)\n",
      "Requirement already satisfied: et-xmlfile in /opt/conda/lib/python3.10/site-packages (from openpyxl->-r requirements.txt (line 6)) (1.1.0)\n",
      "Requirement already satisfied: filelock in /opt/conda/lib/python3.10/site-packages (from transformers->-r requirements.txt (line 7)) (3.15.4)\n",
      "Requirement already satisfied: huggingface-hub<1.0,>=0.19.3 in /opt/conda/lib/python3.10/site-packages (from transformers->-r requirements.txt (line 7)) (0.24.5)\n",
      "Requirement already satisfied: packaging>=20.0 in /opt/conda/lib/python3.10/site-packages (from transformers->-r requirements.txt (line 7)) (24.1)\n",
      "Requirement already satisfied: pyyaml>=5.1 in /opt/conda/lib/python3.10/site-packages (from transformers->-r requirements.txt (line 7)) (6.0.1)\n",
      "Requirement already satisfied: requests in /opt/conda/lib/python3.10/site-packages (from transformers->-r requirements.txt (line 7)) (2.32.3)\n",
      "Requirement already satisfied: tokenizers<0.20,>=0.19 in /opt/conda/lib/python3.10/site-packages (from transformers->-r requirements.txt (line 7)) (0.19.1)\n",
      "Requirement already satisfied: safetensors>=0.4.1 in /opt/conda/lib/python3.10/site-packages (from transformers->-r requirements.txt (line 7)) (0.4.4)\n",
      "Requirement already satisfied: alembic>=1.5.0 in /opt/conda/lib/python3.10/site-packages (from optuna->-r requirements.txt (line 10)) (1.13.2)\n",
      "Requirement already satisfied: colorlog in /opt/conda/lib/python3.10/site-packages (from optuna->-r requirements.txt (line 10)) (6.8.2)\n",
      "Requirement already satisfied: sqlalchemy>=1.3.0 in /opt/conda/lib/python3.10/site-packages (from optuna->-r requirements.txt (line 10)) (2.0.30)\n",
      "Requirement already satisfied: Mako in /opt/conda/lib/python3.10/site-packages (from alembic>=1.5.0->optuna->-r requirements.txt (line 10)) (1.3.5)\n",
      "Requirement already satisfied: fsspec>=2023.5.0 in /opt/conda/lib/python3.10/site-packages (from huggingface-hub<1.0,>=0.19.3->transformers->-r requirements.txt (line 7)) (2023.6.0)\n",
      "Requirement already satisfied: contourpy>=1.0.1 in /opt/conda/lib/python3.10/site-packages (from matplotlib!=3.6.1,>=3.4->seaborn->-r requirements.txt (line 1)) (1.2.1)\n",
      "Requirement already satisfied: cycler>=0.10 in /opt/conda/lib/python3.10/site-packages (from matplotlib!=3.6.1,>=3.4->seaborn->-r requirements.txt (line 1)) (0.12.1)\n",
      "Requirement already satisfied: fonttools>=4.22.0 in /opt/conda/lib/python3.10/site-packages (from matplotlib!=3.6.1,>=3.4->seaborn->-r requirements.txt (line 1)) (4.53.1)\n",
      "Requirement already satisfied: kiwisolver>=1.3.1 in /opt/conda/lib/python3.10/site-packages (from matplotlib!=3.6.1,>=3.4->seaborn->-r requirements.txt (line 1)) (1.4.5)\n",
      "Requirement already satisfied: pyparsing>=2.3.1 in /opt/conda/lib/python3.10/site-packages (from matplotlib!=3.6.1,>=3.4->seaborn->-r requirements.txt (line 1)) (3.1.2)\n",
      "Requirement already satisfied: python-dateutil>=2.7 in /opt/conda/lib/python3.10/site-packages (from matplotlib!=3.6.1,>=3.4->seaborn->-r requirements.txt (line 1)) (2.9.0)\n",
      "Requirement already satisfied: pytz>=2020.1 in /opt/conda/lib/python3.10/site-packages (from pandas>=1.2->seaborn->-r requirements.txt (line 1)) (2023.3)\n",
      "Requirement already satisfied: tzdata>=2022.1 in /opt/conda/lib/python3.10/site-packages (from pandas>=1.2->seaborn->-r requirements.txt (line 1)) (2024.1)\n",
      "Requirement already satisfied: greenlet!=0.4.17 in /opt/conda/lib/python3.10/site-packages (from sqlalchemy>=1.3.0->optuna->-r requirements.txt (line 10)) (3.0.3)\n",
      "Requirement already satisfied: charset-normalizer<4,>=2 in /opt/conda/lib/python3.10/site-packages (from requests->transformers->-r requirements.txt (line 7)) (3.3.2)\n",
      "Requirement already satisfied: idna<4,>=2.5 in /opt/conda/lib/python3.10/site-packages (from requests->transformers->-r requirements.txt (line 7)) (3.7)\n",
      "Requirement already satisfied: urllib3<3,>=1.21.1 in /opt/conda/lib/python3.10/site-packages (from requests->transformers->-r requirements.txt (line 7)) (1.26.19)\n",
      "Requirement already satisfied: certifi>=2017.4.17 in /opt/conda/lib/python3.10/site-packages (from requests->transformers->-r requirements.txt (line 7)) (2024.7.4)\n",
      "Requirement already satisfied: six>=1.5 in /opt/conda/lib/python3.10/site-packages (from python-dateutil>=2.7->matplotlib!=3.6.1,>=3.4->seaborn->-r requirements.txt (line 1)) (1.16.0)\n",
      "Requirement already satisfied: MarkupSafe>=0.9.2 in /opt/conda/lib/python3.10/site-packages (from Mako->alembic>=1.5.0->optuna->-r requirements.txt (line 10)) (2.1.5)\n"
     ]
    }
   ],
   "source": [
    "!pip install -r requirements.txt\n"
   ]
  },
  {
   "cell_type": "code",
   "execution_count": 2,
   "id": "1a156b64-b368-4a76-9c28-878029f9f4ff",
   "metadata": {
    "editable": true,
    "slideshow": {
     "slide_type": ""
    },
    "tags": []
   },
   "outputs": [
    {
     "name": "stderr",
     "output_type": "stream",
     "text": [
      "[nltk_data] Downloading package stopwords to /home/sagemaker-\n",
      "[nltk_data]     user/nltk_data...\n",
      "[nltk_data]   Package stopwords is already up-to-date!\n"
     ]
    },
    {
     "data": {
      "text/plain": [
       "True"
      ]
     },
     "execution_count": 2,
     "metadata": {},
     "output_type": "execute_result"
    }
   ],
   "source": [
    "import pandas as pd\n",
    "import numpy as np\n",
    "import torch   \n",
    "import matplotlib.pyplot as plt\n",
    "import re\n",
    "import torch.nn as nn\n",
    "import seaborn as sns\n",
    "import nltk\n",
    "\n",
    "from collections import Counter\n",
    "from tqdm import tqdm\n",
    "from sklearn.metrics import f1_score, confusion_matrix\n",
    "from nltk.stem import PorterStemmer\n",
    "from torch.utils.data import Dataset, DataLoader\n",
    "from nltk.corpus import stopwords\n",
    "from sklearn.feature_extraction.text import CountVectorizer, TfidfTransformer\n",
    "from wordcloud import WordCloud\n",
    "from imblearn.over_sampling import SMOTE\n",
    "from sklearn.model_selection import train_test_split\n",
    "from sklearn.preprocessing import LabelEncoder\n",
    "\n",
    "\n",
    "\n",
    "nltk.download('stopwords')"
   ]
  },
  {
   "cell_type": "code",
   "execution_count": 3,
   "id": "bc0ea0ea-25d2-404e-8efc-31692cc453ed",
   "metadata": {
    "editable": true,
    "slideshow": {
     "slide_type": ""
    },
    "tags": []
   },
   "outputs": [],
   "source": [
    "import warnings\n",
    "warnings.filterwarnings('ignore')"
   ]
  },
  {
   "cell_type": "code",
   "execution_count": 4,
   "id": "3b5d26f0-2cf4-4583-94a1-8833b27b104e",
   "metadata": {
    "editable": true,
    "slideshow": {
     "slide_type": ""
    },
    "tags": []
   },
   "outputs": [],
   "source": [
    "train_data = pd.read_csv('./data/train_data.csv')  # read in training data\n",
    "valid_data = pd.read_csv('./data/valid_data.csv')  # read in validation data\n",
    "test_data = pd.read_csv('./data/test_data.csv')  # read in test data\n",
    "# reported score will be based on model performance on test data "
   ]
  },
  {
   "cell_type": "code",
   "execution_count": 5,
   "id": "a704ad8d-5d34-4256-b435-bc24b7b903ff",
   "metadata": {
    "editable": true,
    "slideshow": {
     "slide_type": ""
    },
    "tags": []
   },
   "outputs": [],
   "source": [
    "class bcolors:\n",
    "    HEADER = '\\033[95m'\n",
    "    OKBLUE = '\\033[94m'\n",
    "    OKCYAN = '\\033[96m'\n",
    "    OKGREEN = '\\033[92m'\n",
    "    WARNING = '\\033[93m'\n",
    "    FAIL = '\\033[91m'\n",
    "    ENDC = '\\033[0m'\n",
    "    BOLD = '\\033[1m'\n",
    "    UNDERLINE = '\\033[4m'"
   ]
  },
  {
   "cell_type": "code",
   "execution_count": 6,
   "id": "0808700b-023c-48e6-a532-d19e81404c4c",
   "metadata": {},
   "outputs": [
    {
     "data": {
      "text/plain": [
       "Domain\n",
       "Medical         8524\n",
       "Psychology      2923\n",
       "CS              2700\n",
       "ECE             2302\n",
       "Civil           1787\n",
       "MAE             1364\n",
       "Name: count, dtype: int64"
      ]
     },
     "execution_count": 6,
     "metadata": {},
     "output_type": "execute_result"
    }
   ],
   "source": [
    "train_data['Domain'].value_counts()"
   ]
  },
  {
   "cell_type": "code",
   "execution_count": 7,
   "id": "9b5f1e2e-2b8e-466b-8fc9-0f5293c0d4b4",
   "metadata": {
    "editable": true,
    "slideshow": {
     "slide_type": ""
    },
    "tags": []
   },
   "outputs": [],
   "source": [
    "class Config:\n",
    "    batch_size = 16\n",
    "    learning_rate = 0.0001\n",
    "    device = torch.device('cuda' if torch.cuda.is_available() else 'cpu')\n",
    "    epochs = 10 # increase as needed"
   ]
  },
  {
   "cell_type": "code",
   "execution_count": 8,
   "id": "a564bf96-5149-48f6-9efd-04baceaa2dbe",
   "metadata": {
    "editable": true,
    "slideshow": {
     "slide_type": ""
    },
    "tags": []
   },
   "outputs": [],
   "source": [
    "def to_numpy(x):\n",
    "    return x.cpu().numpy()"
   ]
  },
  {
   "cell_type": "code",
   "execution_count": 9,
   "id": "b1744436-622f-40dc-91b3-70254a187e99",
   "metadata": {},
   "outputs": [
    {
     "name": "stdout",
     "output_type": "stream",
     "text": [
      "Shape of Train Dataset: (19600, 3)\n",
      "Shape of Validation Dataset: (12000, 3)\n",
      "Shape of Testing Dataset: (8400, 3)\n",
      "----------------------------------------\n",
      "Column Names: ['Y1', 'Domain', 'Abstract']\n",
      "----------------------------------------\n",
      "Missing Values: \n",
      "Y1          0\n",
      "Domain      0\n",
      "Abstract    0\n",
      "dtype: int64\n"
     ]
    }
   ],
   "source": [
    "print(f'Shape of Train Dataset: {train_data.shape}')\n",
    "print(f'Shape of Validation Dataset: {valid_data.shape}')\n",
    "print(f'Shape of Testing Dataset: {test_data.shape}')\n",
    "print('--'*20)\n",
    "print(f'Column Names: {train_data.columns.tolist()}')\n",
    "print('--'*20)\n",
    "print(f'Missing Values: \\n{train_data.isnull().sum()}')"
   ]
  },
  {
   "cell_type": "code",
   "execution_count": 10,
   "id": "02d5f243-25dc-4349-9840-f8d6ae7ef259",
   "metadata": {
    "editable": true,
    "slideshow": {
     "slide_type": ""
    },
    "tags": []
   },
   "outputs": [],
   "source": [
    "# function to preprocess our text\n",
    "def preprocess_text(col, stop_words, stemmer):\n",
    "    \"\"\"\n",
    "    Arguments:\n",
    "    1. col to preprocess\n",
    "    2. list of stop_words\n",
    "    3. word stemmer\n",
    "\n",
    "    steps: tokenize -> lower case ->\n",
    "            remove stop words -> stem\n",
    "    \"\"\"\n",
    "    col = re.sub(r\"[^a-zA-Z0-9 ]\", \"\", col) # keep only letters and numbers \n",
    "    tokenize = col.split() # word tokenize \n",
    "    lower_case = [word.lower() for word in tokenize] # lower case everything \n",
    "    remove_stop_words = [word for word in lower_case if word not in stop_words] \n",
    "    stemmed_words = [stemmer.stem(word) for word in remove_stop_words]\n",
    "    result = \" \".join(stemmed_words)\n",
    "    return result"
   ]
  },
  {
   "cell_type": "code",
   "execution_count": 11,
   "id": "25c85af1-c3c2-4db3-944a-44faa14ddd36",
   "metadata": {
    "editable": true,
    "slideshow": {
     "slide_type": ""
    },
    "tags": []
   },
   "outputs": [
    {
     "data": {
      "text/plain": [
       "<BarContainer object of 6 artists>"
      ]
     },
     "execution_count": 11,
     "metadata": {},
     "output_type": "execute_result"
    },
    {
     "data": {
      "image/png": "[encoded data removed]",
      "text/plain": [
       "<Figure size 1500x500 with 1 Axes>"
      ]
     },
     "metadata": {},
     "output_type": "display_data"
    }
   ],
   "source": [
    "figure = plt.figure(figsize=(15,5))\n",
    "class_counts = train_data['Domain'].value_counts(normalize=True)\n",
    "plt.grid(color='gray', linestyle='--', linewidth=1, alpha=0.5)  # set grid properties\n",
    "plt.bar(x=class_counts.index, height=class_counts.values)"
   ]
  },
  {
   "cell_type": "code",
   "execution_count": 12,
   "id": "33463d44-a5f0-4c44-a416-87a6b0eba3f6",
   "metadata": {},
   "outputs": [],
   "source": [
    "# apply preprocessing to each df\n",
    "stop_words = set(stopwords.words(\"english\"))\n",
    "stemmer = PorterStemmer()\n",
    "kwargs = {'stop_words': stop_words,\n",
    "           'stemmer': stemmer}\n",
    "train_data['Abstract'] = train_data['Abstract'].apply(lambda x: preprocess_text(x, **kwargs))\n",
    "valid_data['Abstract'] = valid_data['Abstract'].apply(lambda x: preprocess_text(x, **kwargs))\n",
    "test_data['Abstract_preprocessed'] = test_data['Abstract'].apply(lambda x: preprocess_text(x, **kwargs))"
   ]
  },
  {
   "cell_type": "code",
   "execution_count": 13,
   "id": "fd66a4f1-8695-4c63-b189-60d892315bf9",
   "metadata": {
    "editable": true,
    "slideshow": {
     "slide_type": ""
    },
    "tags": []
   },
   "outputs": [],
   "source": [
    "from imblearn.over_sampling import SMOTE\n",
    "\n",
    "# Set up CountVectorizer and TF-IDF on training, validation, and test data\n",
    "X_train = train_data['Abstract']\n",
    "y_train = np.array(train_data['Y1'])\n",
    "\n",
    "X_val = valid_data['Abstract']\n",
    "y_val = np.array(valid_data['Y1'])\n",
    "\n",
    "X_test = test_data['Abstract_preprocessed']\n",
    "y_test = np.array(test_data['Y1'])\n",
    "\n",
    "count_vec = CountVectorizer()\n",
    "tfidf_transformer = TfidfTransformer()\n",
    "\n",
    "# Fit and transform the training data\n",
    "X_train_counts = count_vec.fit_transform(X_train)\n",
    "X_train_tfidf = tfidf_transformer.fit_transform(X_train_counts)\n",
    "\n",
    "# Transform the validation and test data\n",
    "X_val_counts = count_vec.transform(X_val)\n",
    "X_val_tfidf = tfidf_transformer.transform(X_val_counts)\n",
    "\n",
    "X_test_counts = count_vec.transform(X_test)\n",
    "X_test_tfidf = tfidf_transformer.transform(X_test_counts)\n",
    "\n",
    "\n",
    "# Now you can proceed with model training using X_train_resampled and y_train_resampled\n"
   ]
  },
  {
   "cell_type": "code",
   "execution_count": null,
   "id": "1300604f-a49a-476f-abc7-1e2e7f376045",
   "metadata": {},
   "outputs": [],
   "source": [
    "class_counts = pd.Series(y_train).value_counts()\n",
    "top_classes = class_counts.nlargest(5000).index\n",
    "mask_train = np.isin(y_train, top_classes)\n",
    "X_train_filtered = X_train_tfidf[mask_train]\n",
    "y_train_filtered = y_train[mask_train]\n",
    "\n",
    "\n",
    "mask_val = np.isin(y_val, top_classes)\n",
    "X_val_filtered = X_val_tfidf[mask_val]\n",
    "y_val_filtered = y_val[mask_val]\n",
    "\n",
    "mask_test = np.isin(y_test, top_classes)\n",
    "X_test_filtered = X_test_tfidf[mask_test]\n",
    "y_test_filtered = y_test[mask_test]\n",
    "\n",
    "smote = SMOTE(random_state=42)\n",
    "X_train_resampled, y_train_resampled = smote.fit_resample(X_train_tfidf, y_train)\n",
    "le = LabelEncoder()\n",
    "\n",
    "y_train_resampled = le.fit_transform(y_train_resampled)\n",
    "y_val_filtered = le.transform(y_val_filtered)\n",
    "y_test_filtered = le.transform(y_test_filtered)\n",
    "\n",
    "# Step 5: Convert to PyTorch tensors\n",
    "X_train_resampled = torch.FloatTensor(X_train_resampled.toarray())\n",
    "y_train_resampled = torch.from_numpy(y_train_resampled)\n",
    "\n",
    "X_val_filtered = torch.FloatTensor(X_val_filtered.toarray())\n",
    "y_val_filtered = torch.from_numpy(y_val_filtered)\n",
    "\n",
    "X_test_filtered = torch.FloatTensor(X_test_filtered.toarray())\n",
    "y_test_filtered = torch.from_numpy(y_test_filtered)\n",
    "\n",
    "# Check the class distribution after SMOTE\n",
    "print(f\"Before SMOTE: {Counter(y_train)}\")\n",
    "print(f\"After SMOTE: {Counter(y_train_resampled)}\")\n",
    "\n",
    "\n",
    "\n",
    "\n"
   ]
  },
  {
   "cell_type": "code",
   "execution_count": null,
   "id": "3628ee99-754b-4f16-8f26-b46074109277",
   "metadata": {},
   "outputs": [],
   "source": [
    "import matplotlib.pyplot as plt\n",
    "import seaborn as sns\n",
    "from collections import Counter\n",
    "\n",
    "# Visualize the class distribution before SMOTE\n",
    "def plot_class_distribution(y_data, title):\n",
    "    class_counts = Counter(y_data)\n",
    "    \n",
    "    # Plot using seaborn\n",
    "    sns.barplot(x=list(class_counts.keys()), y=list(class_counts.values()))\n",
    "    plt.title(title)\n",
    "    plt.xlabel('Classes')\n",
    "    plt.ylabel('Number of samples')\n",
    "    plt.show()\n",
    "\n",
    "# Plot before SMOTE\n",
    "plot_class_distribution(y_train, title='Class Distribution Before SMOTE')\n",
    "\n",
    "# Plot after SMOTE\n",
    "plot_class_distribution(y_train_resampled, title='Class Distribution After SMOTE')\n"
   ]
  },
  {
   "cell_type": "code",
   "execution_count": null,
   "id": "213ebcc0-bc36-43f9-9133-f09e6902658e",
   "metadata": {
    "editable": true,
    "slideshow": {
     "slide_type": ""
    },
    "tags": []
   },
   "outputs": [],
   "source": [
    "class CustomDataset(Dataset):\n",
    "    def __init__(self, X, y, index):\n",
    "        self.X = X\n",
    "        self.y = y\n",
    "        self.index = index\n",
    "    def __len__(self):\n",
    "        return len(self.y)\n",
    "    \n",
    "    def __getitem__(self, idx):\n",
    "        return self.X[idx], self.y[idx], self.index[idx]\n",
    "\n",
    "\n",
    "train_ds = CustomDataset(X_train_resampled, y_train_resampled, torch.arange(len(y_train_resampled)))\n",
    "valid_ds = CustomDataset(X_val_filtered, y_val_filtered, torch.arange(len(y_val_filtered)))\n",
    "test_ds = CustomDataset(X_test_filtered, y_test_filtered, torch.arange(len(y_test_filtered)))"
   ]
  },
  {
   "cell_type": "code",
   "execution_count": null,
   "id": "439b18cd-c9e8-48ee-b2d1-98d1c54fb1c6",
   "metadata": {},
   "outputs": [],
   "source": [
    "import torch.nn as nn\n",
    "\n",
    "class NeuralNet(nn.Module):\n",
    "    def __init__(self, input_size, num_classes):\n",
    "        super().__init__()\n",
    "\n",
    "        # Define Linear Layers\n",
    "        self.layer1 = nn.Linear(input_size, 2048)\n",
    "        self.bn1 = nn.BatchNorm1d(2048)\n",
    "\n",
    "        self.layer2 = nn.Linear(2048, 1024)\n",
    "        self.bn2 = nn.BatchNorm1d(1024)  \n",
    "\n",
    "        self.layer3 = nn.Linear(1024, 512)\n",
    "        self.bn3 = nn.BatchNorm1d(512)  \n",
    "\n",
    "        self.layer4 = nn.Linear(512, 256)\n",
    "        self.bn4 = nn.BatchNorm1d(256)  \n",
    "\n",
    "        # New layer with 128 units\n",
    "        self.layer5 = nn.Linear(256, 128)\n",
    "        self.bn5 = nn.BatchNorm1d(128)\n",
    "\n",
    "        # Output layer\n",
    "        self.layer6 = nn.Linear(128, num_classes)  \n",
    "\n",
    "        # Dropout layer\n",
    "        self.drop = nn.Dropout(0.7)\n",
    "    \n",
    "    def forward(self, x):\n",
    "\n",
    "        # Layer 1\n",
    "        x = self.layer1(x)\n",
    "        x = self.bn1(x)\n",
    "        x = nn.ReLU()(x)\n",
    "\n",
    "        # Dropout\n",
    "        x = self.drop(x)\n",
    "\n",
    "        # Layer 2\n",
    "        x = self.layer2(x)\n",
    "        x = self.bn2(x)\n",
    "        x = nn.ReLU()(x)\n",
    "\n",
    "        # Dropout\n",
    "        x = self.drop(x)\n",
    "\n",
    "        # Layer 3\n",
    "        x = self.layer3(x)\n",
    "        x = self.bn3(x)\n",
    "        x = nn.ReLU()(x)\n",
    "\n",
    "        # Dropout\n",
    "        x = self.drop(x)\n",
    "\n",
    "        # Layer 4\n",
    "        x = self.layer4(x)\n",
    "        x = self.bn4(x)\n",
    "        x = nn.ReLU()(x)\n",
    "\n",
    "        # New Layer 5\n",
    "        x = self.layer5(x)\n",
    "        x = self.bn5(x)\n",
    "        x = nn.ReLU()(x)\n",
    "\n",
    "        # Output Layer\n",
    "        x = self.layer6(x)\n",
    "        x = nn.Softmax(dim=1)(x)\n",
    "\n",
    "        return x\n"
   ]
  },
  {
   "cell_type": "code",
   "execution_count": null,
   "id": "e99cabef-6a0c-43ed-89e7-e94aadd1d2cb",
   "metadata": {
    "editable": true,
    "slideshow": {
     "slide_type": ""
    },
    "tags": []
   },
   "outputs": [],
   "source": [
    "def calculate_class_weights(train_ds):\n",
    "    # Get class labels from the resampled dataset (after SMOTE)\n",
    "    class_counts = pd.Series(train_ds[:][1].cpu().numpy()).value_counts()\n",
    "    total_samples = len(train_ds)\n",
    "\n",
    "    # Calculate inverse frequency weights\n",
    "    class_weights = total_samples / (len(class_counts) * class_counts)\n",
    "\n",
    "    # Convert to a tensor for PyTorch\n",
    "    return torch.tensor(class_weights.values, dtype=torch.float).to(Config.device)\n",
    "\n",
    "from torch.cuda.amp import autocast, GradScaler\n",
    "\n",
    "def train_model(NeuralNet, train_ds, valid_ds, epochs, learning_rate, batch_size, model_kwargs):\n",
    "    torch.manual_seed(10)\n",
    "    \n",
    "    # Calculate class weights and create a weighted loss function\n",
    "    class_weights = calculate_class_weights(train_ds)\n",
    "    criterion = nn.CrossEntropyLoss(weight=class_weights)\n",
    "\n",
    "    # Initialize the model and move it to the device (CPU/GPU)\n",
    "    model = NeuralNet(**model_kwargs).to(Config.device)\n",
    "    print(model)\n",
    "\n",
    "    # Optimizer\n",
    "    optimizer = torch.optim.Adam(model.parameters(), lr=learning_rate)\n",
    "    \n",
    "    # Initialize scaler for mixed precision training\n",
    "    scaler = GradScaler()\n",
    "\n",
    "    # DataLoader for training and validation sets\n",
    "    train_dl = DataLoader(train_ds, batch_size=batch_size, shuffle=True, pin_memory=True, num_workers=4)\n",
    "    valid_dl = DataLoader(valid_ds, batch_size=batch_size, shuffle=False, pin_memory=True, num_workers=4)\n",
    "\n",
    "    loss_hist_train = []\n",
    "    loss_hist_val = []\n",
    "    acc_hist_train = []\n",
    "    acc_hist_val = []\n",
    "    f1_hist_train = []\n",
    "    f1_hist_val = []\n",
    "\n",
    "    for epoch in range(epochs):\n",
    "        running_hist_loss = 0.0\n",
    "        running_hist_acc = 0.0\n",
    "        running_hist_f1 = 0.0\n",
    "        lens = 0.0\n",
    "        model.train()\n",
    "\n",
    "        # Training loop\n",
    "        for x_batch, y_batch, _ in tqdm(train_dl):\n",
    "            x_batch, y_batch = x_batch.to(Config.device), y_batch.to(Config.device)\n",
    "\n",
    "            # Clear gradients\n",
    "            optimizer.zero_grad()\n",
    "\n",
    "            # Mixed precision forward pass\n",
    "            with autocast():\n",
    "                pred = model(x_batch)\n",
    "                loss = criterion(pred, y_batch)\n",
    "\n",
    "            # Scale the loss and backward pass\n",
    "            scaler.scale(loss).backward()\n",
    "\n",
    "            # Update weights using the optimizer and scaler\n",
    "            scaler.step(optimizer)\n",
    "            scaler.update()\n",
    "\n",
    "            running_hist_loss += loss.item()\n",
    "            lens += len(x_batch)\n",
    "\n",
    "            # Calculate F1 score and accuracy\n",
    "            f1_score_calc = f1_score(to_numpy(torch.argmax(pred, dim=1)), to_numpy(y_batch), average='macro')\n",
    "            running_hist_f1 += f1_score_calc\n",
    "            is_correct = (torch.argmax(pred, dim=1) == y_batch).float()\n",
    "            running_hist_acc += is_correct.sum()\n",
    "\n",
    "        running_hist_acc /= lens\n",
    "        running_hist_loss /= lens\n",
    "        running_hist_f1 /= len(train_dl)\n",
    "\n",
    "        # Validation phase\n",
    "        running_hist_loss_test = 0.0\n",
    "        running_hist_acc_test = 0.0\n",
    "        running_hist_f1_test = 0.0\n",
    "        lens = 0.0\n",
    "        model.eval()\n",
    "        with torch.no_grad():\n",
    "            for x, y, _ in tqdm(valid_dl):\n",
    "                x, y = x.to(Config.device), y.to(Config.device)\n",
    "\n",
    "                with autocast():  # Also apply mixed precision in validation\n",
    "                    pred = model(x)\n",
    "                    loss = criterion(pred, y)\n",
    "\n",
    "                running_hist_loss_test += loss.item()\n",
    "                lens += len(x)\n",
    "\n",
    "                # Calculate F1 score and accuracy\n",
    "                f1_score_calc = f1_score(to_numpy(torch.argmax(pred, dim=1)), to_numpy(y), average='macro')\n",
    "                running_hist_f1_test += f1_score_calc\n",
    "                is_correct = (torch.argmax(pred, dim=1) == y)\n",
    "                running_hist_acc_test += is_correct.float().sum()\n",
    "\n",
    "            running_hist_loss_test /= lens\n",
    "            running_hist_acc_test /= lens\n",
    "            running_hist_f1_test /= len(valid_dl)\n",
    "\n",
    "        # Print epoch results\n",
    "        print(f\"Epoch {epoch}\")\n",
    "        print(\"Train Loss: \\t{:.4f}\".format(running_hist_loss))\n",
    "        print(\"Validation Loss: \\t{:.4f}\".format(running_hist_loss_test))\n",
    "        print(\"Train Accuracy: \\t{:.3f}\".format(running_hist_acc))\n",
    "        print(\"Validation Accuracy: \\t{:.3f}\".format(running_hist_acc_test))\n",
    "        print(\"Train F1: \\t{:.3f}\".format(running_hist_f1))\n",
    "        print(\"Validation F1: \\t{:.3f}\".format(running_hist_f1_test))\n",
    "        print(\"------------------------------\")\n",
    "\n",
    "        # Save the model with the best validation accuracy\n",
    "        if (epoch > 1 and running_hist_loss_test < np.min(loss_hist_val)) or epoch == 1:\n",
    "            torch.save(model.state_dict(), \"./models/checkpoint.pt\")\n",
    "\n",
    "        # Store loss and accuracy history\n",
    "        loss_hist_train.append(running_hist_loss)\n",
    "        loss_hist_val.append(running_hist_loss_test)\n",
    "        acc_hist_val.append(running_hist_acc_test.detach().cpu().numpy())\n",
    "        acc_hist_train.append(running_hist_acc.detach().cpu().numpy())\n",
    "        f1_hist_train.append(running_hist_f1)\n",
    "        f1_hist_val.append(running_hist_f1_test)\n",
    "\n",
    "    # Load the best model\n",
    "    model = NeuralNet(**model_kwargs)\n",
    "    model.load_state_dict(torch.load(\"./models/checkpoint.pt\"))\n",
    "    model.eval()\n",
    "\n",
    "    return model, loss_hist_train, loss_hist_val, acc_hist_train, acc_hist_val, f1_hist_train, f1_hist_val\n",
    "\n"
   ]
  },
  {
   "cell_type": "code",
   "execution_count": null,
   "id": "26f24d6d-0e02-4cb4-8fda-c50c213543c2",
   "metadata": {},
   "outputs": [],
   "source": [
    "input_size = X_train_resampled.shape[1]  # or use X_train_tfidf.shape[1]\n",
    "kwargs = {'input_size': input_size,\n",
    "          'num_classes': 6}\n",
    "model, loss_train, loss_val, acc_train, acc_val, f1_train, f1_val = train_model(NeuralNet, train_ds, valid_ds, Config.epochs, Config.learning_rate, \n",
    "                                                                            Config.batch_size, kwargs)"
   ]
  },
  {
   "cell_type": "code",
   "execution_count": null,
   "id": "2f9f2fc2-4988-4ea6-8eb7-dae716eb8acc",
   "metadata": {},
   "outputs": [],
   "source": []
  }
 ],
 "metadata": {
  "kernelspec": {
   "display_name": "Python 3 (ipykernel)",
   "language": "python",
   "name": "python3"
  },
  "language_info": {
   "codemirror_mode": {
    "name": "ipython",
    "version": 3
   },
   "file_extension": ".py",
   "mimetype": "text/x-python",
   "name": "python",
   "nbconvert_exporter": "python",
   "pygments_lexer": "ipython3",
   "version": "3.10.14"
  }
 },
 "nbformat": 4,
 "nbformat_minor": 5
}
